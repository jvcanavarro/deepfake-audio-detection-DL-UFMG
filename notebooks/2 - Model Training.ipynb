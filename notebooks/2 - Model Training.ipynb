{
 "cells": [
  {
   "cell_type": "code",
   "execution_count": 1,
   "id": "a06ff810-fe50-4839-a0e8-1c2e6f3cbb09",
   "metadata": {
    "tags": []
   },
   "outputs": [],
   "source": [
    "mathurinache_the_lj_speech_dataset_path, andreadiubaldo_wavefake_test_path = ('/home/jovyan/.cache/kagglehub/datasets/mathurinache/the-lj-speech-dataset/versions/1',\n",
    " '/home/jovyan/.cache/kagglehub/datasets/andreadiubaldo/wavefake-test/versions/1')"
   ]
  },
  {
   "cell_type": "code",
   "execution_count": 1,
   "id": "b452d437-2a83-4c93-9e83-3a1a9726605d",
   "metadata": {
    "tags": []
   },
   "outputs": [
    {
     "name": "stderr",
     "output_type": "stream",
     "text": [
      "2025-01-28 20:04:20.311871: I tensorflow/core/platform/cpu_feature_guard.cc:193] This TensorFlow binary is optimized with oneAPI Deep Neural Network Library (oneDNN) to use the following CPU instructions in performance-critical operations:  AVX2 AVX512F FMA\n",
      "To enable them in other operations, rebuild TensorFlow with the appropriate compiler flags.\n",
      "2025-01-28 20:04:22.909411: W tensorflow/compiler/xla/stream_executor/platform/default/dso_loader.cc:64] Could not load dynamic library 'libnvinfer.so.7'; dlerror: libnvinfer.so.7: cannot open shared object file: No such file or directory; LD_LIBRARY_PATH: /usr/local/cuda/extras/CUPTI/lib64:/usr/local/cuda/lib64:/usr/local/nvidia/lib:/usr/local/nvidia/lib64\n",
      "2025-01-28 20:04:22.909535: W tensorflow/compiler/xla/stream_executor/platform/default/dso_loader.cc:64] Could not load dynamic library 'libnvinfer_plugin.so.7'; dlerror: libnvinfer_plugin.so.7: cannot open shared object file: No such file or directory; LD_LIBRARY_PATH: /usr/local/cuda/extras/CUPTI/lib64:/usr/local/cuda/lib64:/usr/local/nvidia/lib:/usr/local/nvidia/lib64\n",
      "2025-01-28 20:04:22.909545: W tensorflow/compiler/tf2tensorrt/utils/py_utils.cc:38] TF-TRT Warning: Cannot dlopen some TensorRT libraries. If you would like to use Nvidia GPU with TensorRT, please make sure the missing libraries mentioned above are installed properly.\n"
     ]
    }
   ],
   "source": [
    "import numpy as np\n",
    "import pandas as pd\n",
    "import os\n",
    "import librosa\n",
    "import matplotlib.pyplot as plt\n",
    "import IPython\n",
    "import tensorflow as tf\n",
    "\n",
    "from sklearn.model_selection import train_test_split\n",
    "from sklearn.preprocessing import LabelEncoder\n",
    "from tensorflow.keras.callbacks import EarlyStopping\n",
    "from tensorflow.keras.models import Sequential\n",
    "from tensorflow.keras.layers import Dense, Activation,Reshape,MaxPooling2D, Dropout, Conv2D, MaxPool2D, Flatten\n",
    "from tensorflow.keras.utils import to_categorical\n",
    "from tensorflow.keras import layers, Sequential, regularizers\n",
    "\n",
    "# gpus = tf.config.list_physical_devices('GPU')\n",
    "# gpu = gpus[0]\n",
    "\n",
    "# tf.config.experimental.set_memory_growth(gpu, True)"
   ]
  },
  {
   "cell_type": "code",
   "execution_count": 4,
   "id": "52f23515-ff2b-4d9c-9eb3-a71ca963c3fb",
   "metadata": {
    "tags": []
   },
   "outputs": [
    {
     "name": "stdout",
     "output_type": "stream",
     "text": [
      "Dataset is loaded\n"
     ]
    }
   ],
   "source": [
    "import os\n",
    "\n",
    "paths = []\n",
    "labels = []\n",
    "\n",
    "# Define the root directory\n",
    "real_root_dir = mathurinache_the_lj_speech_dataset_path + \"/LJSpeech-1.1/wavs\" # '/kaggle/input/the-lj-speech-dataset/LJSpeech-1.1/wavs'\n",
    "fake_root_dir = andreadiubaldo_wavefake_test_path + \"/generated_audio/ljspeech_melgan\"  # '/kaggle/input/wavefake-test/generated_audio/ljspeech_melgan'\n",
    "# Iterate through the subdirectories\n",
    "for filename in os.listdir(real_root_dir):\n",
    "    file_path = os.path.join(real_root_dir, filename)\n",
    "    paths.append(file_path)\n",
    "    # Add label based on the subdirectory name\n",
    "    labels.append('real')\n",
    "\n",
    "for filename in os.listdir(fake_root_dir):\n",
    "    file_path = os.path.join(fake_root_dir, filename)\n",
    "    paths.append(file_path)\n",
    "    # Add label based on the subdirectory name\n",
    "    labels.append('fake')\n",
    "\n",
    "print('Dataset is loaded')\n"
   ]
  },
  {
   "cell_type": "code",
   "execution_count": 5,
   "id": "f1924baa-5495-42e6-82b4-c26130b8f304",
   "metadata": {
    "tags": []
   },
   "outputs": [],
   "source": [
    "import os\n",
    "import numpy as np\n",
    "import librosa\n",
    "\n",
    "EXTRACT = False\n",
    "\n",
    "def extract_features(fake_root_dir, real_root_dir, max_length=500):\n",
    "    all_features = []\n",
    "    labels = []\n",
    "    \n",
    "    print(\"Fakes\")\n",
    "    for file in os.listdir(fake_root_dir)[:]:\n",
    "        file_path = os.path.join(fake_root_dir, file)\n",
    "        try:\n",
    "            # Load audio file\n",
    "            audio, _ = librosa.load(file_path, sr=16000)\n",
    "            \n",
    "            # Extract MFCC features\n",
    "            mfccs = librosa.feature.mfcc(y=audio, sr=16000, n_mfcc=15)\n",
    "            mfccs = pad_or_trim(mfccs, max_length)\n",
    "            \n",
    "            # Extract Mel-Spectrogram features\n",
    "            mel_spectrogram = librosa.feature.melspectrogram(y=audio, sr=16000, n_mels=15)\n",
    "            mel_spectrogram_db = librosa.power_to_db(mel_spectrogram, ref=np.max)\n",
    "            mel_spectrogram_db = pad_or_trim(mel_spectrogram_db, max_length)\n",
    "\n",
    "            # Extract CQT features\n",
    "            cqt = librosa.cqt(y=audio, sr=16000, n_bins=15)\n",
    "            cqt_magnitude = pad_or_trim(np.abs(cqt), max_length)\n",
    "\n",
    "            # Extract CQCC features (Simulated from CQT)\n",
    "            cqt_db = librosa.amplitude_to_db(cqt)\n",
    "            cqcc = librosa.feature.mfcc(S=cqt_db, n_mfcc=15)\n",
    "            cqcc = pad_or_trim(cqcc, max_length)\n",
    "            \n",
    "            # Stack features\n",
    "            combined_features = np.vstack([mfccs, mel_spectrogram_db, cqt_magnitude, cqcc])\n",
    "            # combined_features = mfccs\n",
    "            # combined_features = np.vstack([mfccs, mel_spectrogram_db, cqt_magnitude])\n",
    "            \n",
    "            # Append features and labels\n",
    "            all_features.append(combined_features)\n",
    "            labels.append(1)  # 1 for fake\n",
    "            \n",
    "        except Exception as e:\n",
    "            print(f\"Error encountered while parsing file: {file_path}\")\n",
    "            continue\n",
    "    np.save(\"fakes.npy\", all_features)\n",
    "    print(\"Reals\")\n",
    "    for file in os.listdir(real_root_dir)[:]:\n",
    "        file_path = os.path.join(real_root_dir, file)\n",
    "        try:\n",
    "            # Load audio file\n",
    "            audio, _ = librosa.load(file_path, sr=16000)\n",
    "            \n",
    "            # Extract MFCC features\n",
    "            mfccs = librosa.feature.mfcc(y=audio, sr=16000, n_mfcc=15)\n",
    "            mfccs = pad_or_trim(mfccs, max_length)\n",
    "            \n",
    "            # Extract Mel-Spectrogram features\n",
    "            mel_spectrogram = librosa.feature.melspectrogram(y=audio, sr=16000, n_mels=15)\n",
    "            mel_spectrogram_db = librosa.power_to_db(mel_spectrogram, ref=np.max)\n",
    "            mel_spectrogram_db = pad_or_trim(mel_spectrogram_db, max_length)\n",
    "\n",
    "            # Extract CQT features\n",
    "            cqt = librosa.cqt(y=audio, sr=16000, n_bins=15)\n",
    "            cqt_magnitude = pad_or_trim(np.abs(cqt), max_length)\n",
    "\n",
    "            # Extract CQCC features (Simulated from CQT)\n",
    "            cqt_db = librosa.amplitude_to_db(cqt)\n",
    "            cqcc = librosa.feature.mfcc(S=cqt_db, n_mfcc=15)\n",
    "            cqcc = pad_or_trim(cqcc, max_length)\n",
    "            \n",
    "            # Stack features\n",
    "            combined_features = np.vstack([mfccs, mel_spectrogram_db, cqt_magnitude, cqcc])\n",
    "            # combined_features = mfccs\n",
    "            # combined_features = np.vstack([mfccs, mel_spectrogram_db, cqt_magnitude])\n",
    "            \n",
    "            # Append features and labels\n",
    "            all_features.append(combined_features)\n",
    "            labels.append(0)  # 0 for real\n",
    "            \n",
    "        except Exception as e:\n",
    "            print(f\"Error encountered while parsing file: {file_path}\")\n",
    "            continue\n",
    "    np.save(\"reals.npy\", all_features)\n",
    "\n",
    "    # Convert lists to NumPy arrays\n",
    "    return np.array(all_features), np.array(labels)\n",
    "\n",
    "def pad_or_trim(features, max_length):\n",
    "    \"\"\"\n",
    "    Pads or trims the input feature array to a specific max_length.\n",
    "    \"\"\"\n",
    "    if features.shape[1] < max_length:\n",
    "        return np.pad(features, ((0, 0), (0, max_length - features.shape[1])), mode='constant')\n",
    "    else:\n",
    "        return features[:, :max_length]\n",
    "\n",
    "if EXTRACT:\n",
    "    x, y = extract_features(fake_root_dir, real_root_dir)\n",
    "    print(\"Features shape:\", x.shape)  # Should be (10, 40*4, 500)\n",
    "    print(\"Labels shape:\", y.shape)    # Should be (10,)"
   ]
  },
  {
   "cell_type": "code",
   "execution_count": 2,
   "id": "2cbfae9d-d2ce-430e-8451-4d9abf2f7be7",
   "metadata": {
    "tags": []
   },
   "outputs": [],
   "source": [
    "# np.save(\"x3.npy\", x)\n",
    "# np.save(\"y3.npy\", y)\n",
    "\n",
    "x = np.load('x3.npy')\n",
    "y = np.load('y3.npy')"
   ]
  },
  {
   "cell_type": "code",
   "execution_count": 3,
   "id": "76809ca0-487d-4c31-9d2c-812e3c956e20",
   "metadata": {
    "tags": []
   },
   "outputs": [
    {
     "data": {
      "text/plain": [
       "((26200, 60, 500), (26200,))"
      ]
     },
     "execution_count": 3,
     "metadata": {},
     "output_type": "execute_result"
    }
   ],
   "source": [
    "x.shape, y.shape"
   ]
  },
  {
   "cell_type": "code",
   "execution_count": 8,
   "id": "ac264702-1d5a-4529-afbc-73a7b7c02684",
   "metadata": {
    "tags": []
   },
   "outputs": [
    {
     "name": "stdout",
     "output_type": "stream",
     "text": [
      "30\n"
     ]
    }
   ],
   "source": [
    "# new_second_dim_size = x.shape[1] // 2\n",
    "\n",
    "print(new_second_dim_size)   /\n",
    "# Halve the first dimension\n",
    "# x_halved = x[:, :new_second_dim_size, :]\n",
    "\n",
    "# del x\n",
    "# del y\n",
    "# del x_halved"
   ]
  },
  {
   "cell_type": "code",
   "execution_count": 5,
   "id": "a71505a5-5e23-43ed-ab58-b8829b560c97",
   "metadata": {
    "tags": []
   },
   "outputs": [],
   "source": [
    "xtrain,xtest,ytrain,ytest = train_test_split(x,y,test_size = .2)"
   ]
  },
  {
   "cell_type": "code",
   "execution_count": 6,
   "id": "4d7d0008-26e7-40c4-9f90-1751c21af8a1",
   "metadata": {},
   "outputs": [
    {
     "data": {
      "text/plain": [
       "((20960, 60, 500), (20959, 60, 500))"
      ]
     },
     "execution_count": 6,
     "metadata": {},
     "output_type": "execute_result"
    }
   ],
   "source": [
    "xtrain.shape, xtrain[1:].shape         "
   ]
  },
  {
   "cell_type": "code",
   "execution_count": 7,
   "id": "c6a8012d-9d09-4b71-936b-65095410794f",
   "metadata": {
    "tags": []
   },
   "outputs": [
    {
     "name": "stderr",
     "output_type": "stream",
     "text": [
      "2025-01-28 20:19:28.415882: I tensorflow/core/platform/cpu_feature_guard.cc:193] This TensorFlow binary is optimized with oneAPI Deep Neural Network Library (oneDNN) to use the following CPU instructions in performance-critical operations:  AVX2 AVX512F FMA\n",
      "To enable them in other operations, rebuild TensorFlow with the appropriate compiler flags.\n",
      "2025-01-28 20:19:31.953331: I tensorflow/core/common_runtime/gpu/gpu_device.cc:1613] Created device /job:localhost/replica:0/task:0/device:GPU:0 with 38208 MB memory:  -> device: 0, name: NVIDIA A100-SXM4-40GB, pci bus id: 0000:10:1c.0, compute capability: 8.0\n",
      "2025-01-28 20:19:31.956921: I tensorflow/core/common_runtime/gpu/gpu_device.cc:1613] Created device /job:localhost/replica:0/task:0/device:GPU:1 with 38208 MB memory:  -> device: 1, name: NVIDIA A100-SXM4-40GB, pci bus id: 0000:90:1c.0, compute capability: 8.0\n",
      "2025-01-28 20:19:31.958527: I tensorflow/core/common_runtime/gpu/gpu_device.cc:1613] Created device /job:localhost/replica:0/task:0/device:GPU:2 with 38208 MB memory:  -> device: 2, name: NVIDIA A100-SXM4-40GB, pci bus id: 0000:a0:1c.0, compute capability: 8.0\n",
      "2025-01-28 20:19:31.960114: I tensorflow/core/common_runtime/gpu/gpu_device.cc:1613] Created device /job:localhost/replica:0/task:0/device:GPU:3 with 38208 MB memory:  -> device: 3, name: NVIDIA A100-SXM4-40GB, pci bus id: 0000:a0:1d.0, compute capability: 8.0\n"
     ]
    },
    {
     "name": "stdout",
     "output_type": "stream",
     "text": [
      "Model: \"sequential\"\n",
      "_________________________________________________________________\n",
      " Layer (type)                Output Shape              Param #   \n",
      "=================================================================\n",
      " reshape (Reshape)           (None, 60, 500, 1)        0         \n",
      "                                                                 \n",
      " conv2d (Conv2D)             (None, 60, 500, 32)       320       \n",
      "                                                                 \n",
      " batch_normalization (BatchN  (None, 60, 500, 32)      128       \n",
      " ormalization)                                                   \n",
      "                                                                 \n",
      " max_pooling2d (MaxPooling2D  (None, 30, 250, 32)      0         \n",
      " )                                                               \n",
      "                                                                 \n",
      " conv2d_1 (Conv2D)           (None, 30, 250, 64)       18496     \n",
      "                                                                 \n",
      " batch_normalization_1 (Batc  (None, 30, 250, 64)      256       \n",
      " hNormalization)                                                 \n",
      "                                                                 \n",
      " max_pooling2d_1 (MaxPooling  (None, 15, 125, 64)      0         \n",
      " 2D)                                                             \n",
      "                                                                 \n",
      " conv2d_2 (Conv2D)           (None, 15, 125, 128)      73856     \n",
      "                                                                 \n",
      " batch_normalization_2 (Batc  (None, 15, 125, 128)     512       \n",
      " hNormalization)                                                 \n",
      "                                                                 \n",
      " max_pooling2d_2 (MaxPooling  (None, 7, 62, 128)       0         \n",
      " 2D)                                                             \n",
      "                                                                 \n",
      " reshape_1 (Reshape)         (None, 434, 128)          0         \n",
      "                                                                 \n",
      " bidirectional (Bidirectiona  (None, 434, 256)         263168    \n",
      " l)                                                              \n",
      "                                                                 \n",
      " batch_normalization_3 (Batc  (None, 434, 256)         1024      \n",
      " hNormalization)                                                 \n",
      "                                                                 \n",
      " bidirectional_1 (Bidirectio  (None, 256)              394240    \n",
      " nal)                                                            \n",
      "                                                                 \n",
      " batch_normalization_4 (Batc  (None, 256)              1024      \n",
      " hNormalization)                                                 \n",
      "                                                                 \n",
      " dense (Dense)               (None, 128)               32896     \n",
      "                                                                 \n",
      " dropout (Dropout)           (None, 128)               0         \n",
      "                                                                 \n",
      " dense_1 (Dense)             (None, 1)                 129       \n",
      "                                                                 \n",
      "=================================================================\n",
      "Total params: 786,049\n",
      "Trainable params: 784,577\n",
      "Non-trainable params: 1,472\n",
      "_________________________________________________________________\n"
     ]
    }
   ],
   "source": [
    "# strategy = tf.distribute.MirroredStrategy(cross_device_ops=tf.distribute.ReductionToOneDevice())\n",
    "strategy = tf.distribute.get_strategy()\n",
    "\n",
    "with strategy.scope():\n",
    "    # Create and compile the model inside the strategy scope\n",
    "    model = Sequential([\n",
    "        layers.Reshape((60, 500, 1), input_shape=xtrain.shape[1:]),\n",
    "        layers.Conv2D(32, kernel_size=(3, 3), activation='relu', padding='same'),\n",
    "        layers.BatchNormalization(),\n",
    "        layers.MaxPooling2D(pool_size=(2, 2)),\n",
    "\n",
    "        layers.Conv2D(64, kernel_size=(3, 3), activation='relu', padding='same'),\n",
    "        layers.BatchNormalization(),\n",
    "        layers.MaxPooling2D(pool_size=(2, 2)),\n",
    "\n",
    "        layers.Conv2D(128, kernel_size=(3, 3), activation='relu', padding='same'),\n",
    "        layers.BatchNormalization(),\n",
    "        layers.MaxPooling2D(pool_size=(2, 2)),\n",
    "\n",
    "        layers.Reshape((-1, 128)),\n",
    "        layers.Bidirectional(layers.LSTM(128, return_sequences=True, dropout=0.3)),\n",
    "        layers.BatchNormalization(),\n",
    "        layers.Bidirectional(layers.LSTM(128, dropout=0.3)),\n",
    "        layers.BatchNormalization(),\n",
    "        layers.Dense(128, activation='relu', kernel_regularizer=regularizers.l2(0.001)),\n",
    "        layers.Dropout(0.5),\n",
    "        layers.Dense(1, activation='sigmoid')\n",
    "    ])\n",
    "\n",
    "    model.compile(optimizer='adam', loss='binary_crossentropy', metrics=['accuracy'])\n",
    "\n",
    "\n",
    "# Print the model summary to confirm the structure\n",
    "model.summary()"
   ]
  },
  {
   "cell_type": "code",
   "execution_count": null,
   "id": "849fd1c7-391c-4aef-8778-9f0940e74572",
   "metadata": {
    "tags": []
   },
   "outputs": [],
   "source": [
    "# tf.keras.mixed_precision.set_global_policy('mixed_float16')\n",
    "\n",
    "# Define EarlyStopping callback to monitor validation accuracy\n",
    "early_stopping = EarlyStopping(\n",
    "    monitor='val_accuracy',        # Monitor validation accuracy instead of loss\n",
    "    patience=10,                     # Stop after 10 epochs of no improvement\n",
    "    restore_best_weights=True,      # Restore the weights from the epoch with the best validation accuracy\n",
    "    mode='max',                     # 'max' because higher accuracy is better (we want to maximize val_accuracy)\n",
    "    verbose=1                       # Output when training stops early\n",
    ")\n",
    "\n",
    "batch_size = 32 * strategy.num_replicas_in_sync\n",
    "\n",
    "# Train the model with early stopping\n",
    "history = model.fit(\n",
    "    xtrain, ytrain,                 # Training data\n",
    "    epochs=5,                      # Max number of epochs\n",
    "    batch_size=batch_size,                  # Batch size\n",
    "    validation_data=(xtest, ytest),   # Validation data\n",
    "    # callbacks=[early_stopping]      # Add early stopping callback\n",
    ")"
   ]
  },
  {
   "cell_type": "code",
   "execution_count": 28,
   "id": "f0ee3ec9-7c9f-4e11-b868-5a491ced159c",
   "metadata": {},
   "outputs": [
    {
     "name": "stderr",
     "output_type": "stream",
     "text": [
      "2025-01-28 16:11:19.116593: I tensorflow/compiler/xla/stream_executor/cuda/cuda_blas.cc:630] TensorFloat-32 will be used for the matrix multiplication. This will only be logged once.\n"
     ]
    },
    {
     "name": "stdout",
     "output_type": "stream",
     "text": [
      "164/164 [==============================] - 19s 25ms/step - loss: 0.0166 - accuracy: 0.9952\n"
     ]
    },
    {
     "data": {
      "text/plain": [
       "(0.016631802543997765, 0.9952290058135986)"
      ]
     },
     "execution_count": 28,
     "metadata": {},
     "output_type": "execute_result"
    }
   ],
   "source": [
    "loss, accuracy = model.evaluate(xtest,ytest)\n",
    "loss, accuracy"
   ]
  },
  {
   "cell_type": "code",
   "execution_count": null,
   "id": "85cc34a5-a105-48fa-bd20-e23a87b938cf",
   "metadata": {
    "tags": []
   },
   "outputs": [],
   "source": [
    "fig, (ax1, ax2) = plt.subplots(1, 2, figsize=(12, 5))  # 2 rows, 1 column\n",
    "\n",
    "\n",
    "# First subplot (Sine Wave)\n",
    "ax1.plot(history.history['accuracy'], label='Training Accuracy')\n",
    "ax1.plot(history.history['val_accuracy'], label='Validation Accuracy')\n",
    "ax1.set_title('Training and Validation Accuracy')\n",
    "ax1.set_xlabel('Epoch')\n",
    "ax1.set_ylabel('Accuracy')\n",
    "ax1.legend()\n",
    "\n",
    "plt.title('Training and Validation Accuracy')\n",
    "\n",
    "# Second subplot (Cosine Wave)\n",
    "ax2.plot(history.history['loss'], label='Training Loss')\n",
    "ax2.plot(history.history['val_loss'], label='Validation Loss')\n",
    "\n",
    "ax2.set_xlabel('Epoch')\n",
    "ax2.set_ylabel('Loss')\n",
    "ax2.set_title('Training and Validation Loss')\n",
    "\n",
    "ax2.legend()\n",
    "\n",
    "# Save and show\n",
    "plt.tight_layout()\n",
    "plt.savefig('two_stacked_plots.png')\n",
    "plt.show()\n"
   ]
  },
  {
   "cell_type": "code",
   "execution_count": null,
   "id": "1e8c5c13-51cc-4a29-bed3-dc61c0afff1a",
   "metadata": {
    "tags": []
   },
   "outputs": [],
   "source": [
    "cpu_model = tf.keras.models.clone_model(model)\n",
    "cpu_model.compile(optimizer='adam', loss='binary_crossentropy', metrics=['accuracy'])\n",
    "\n",
    "# # Copy weights from the TPU model to the CPU model\n",
    "cpu_model.set_weights(model.get_weights())\n",
    "\n",
    "# # Save only the weights of the CPU model\n",
    "cpu_model.save_weights('v3_1.h5')"
   ]
  },
  {
   "cell_type": "code",
   "execution_count": 8,
   "id": "7d0b8d4f-a5b2-48d5-ba5c-932212e3f5f5",
   "metadata": {
    "tags": []
   },
   "outputs": [],
   "source": [
    "model.load_weights(\"v3_1.h5\")\n",
    "\n",
    "model.compile(optimizer='adam', loss='binary_crossentropy', metrics=['accuracy'])"
   ]
  },
  {
   "cell_type": "code",
   "execution_count": 9,
   "id": "b59096e6-8a43-4520-ad88-398aec43d69d",
   "metadata": {
    "tags": []
   },
   "outputs": [
    {
     "name": "stderr",
     "output_type": "stream",
     "text": [
      "2025-01-28 20:20:51.679782: I tensorflow/compiler/xla/stream_executor/cuda/cuda_dnn.cc:428] Loaded cuDNN version 8204\n"
     ]
    },
    {
     "name": "stdout",
     "output_type": "stream",
     "text": [
      "  7/164 [>.............................] - ETA: 4s"
     ]
    },
    {
     "name": "stderr",
     "output_type": "stream",
     "text": [
      "2025-01-28 20:20:55.418160: I tensorflow/compiler/xla/stream_executor/cuda/cuda_blas.cc:630] TensorFloat-32 will be used for the matrix multiplication. This will only be logged once.\n"
     ]
    },
    {
     "name": "stdout",
     "output_type": "stream",
     "text": [
      "164/164 [==============================] - 10s 26ms/step\n",
      "EER: 0.0030 at threshold: 0.5614\n"
     ]
    }
   ],
   "source": [
    "# EER\n",
    "\n",
    "from sklearn.metrics import roc_curve\n",
    "\n",
    "preds = model.predict(xtest)\n",
    "\n",
    "# Calculate the false acceptance and false rejection rates\n",
    "fpr, tpr, thresholds = roc_curve(ytest, preds)\n",
    "\n",
    "# False rejection rate is 1 - true positive rate\n",
    "frr = 1 - tpr\n",
    "\n",
    "# Find the point where FAR is closest to FRR\n",
    "eer_threshold_index = np.nanargmin(np.absolute((fpr - frr)))\n",
    "eer_threshold = thresholds[eer_threshold_index]\n",
    "eer = fpr[eer_threshold_index]\n",
    "\n",
    "print(f\"EER: {eer:.4f} at threshold: {eer_threshold:.4f}\")"
   ]
  },
  {
   "cell_type": "markdown",
   "id": "003919cd-9d86-4f5f-895e-e2afbace6b44",
   "metadata": {},
   "source": [
    "## Train with ASVspoof"
   ]
  },
  {
   "cell_type": "code",
   "execution_count": 47,
   "id": "dfc89549-1549-4a34-b08d-a940b50cb7d5",
   "metadata": {
    "tags": []
   },
   "outputs": [
    {
     "data": {
      "text/plain": [
       "(25380, 71933, 24986)"
      ]
     },
     "execution_count": 47,
     "metadata": {},
     "output_type": "execute_result"
    }
   ],
   "source": [
    "import glob\n",
    "\n",
    "# Create dataset\n",
    "BASE_PATH = \"/home/jovyan/.cache/kagglehub/datasets/awsaf49/asvpoof-2019-dataset/versions/1/LA/LA/ASVspoof2019_LA\"\n",
    "\n",
    "\n",
    "TRAIN_FILENAMES = glob.glob(BASE_PATH + '_train/flac/*.flac')\n",
    "VALID_FILENAMES = glob.glob(BASE_PATH + '_eval/flac/*.flac')\n",
    "TEST_FILENAMES = glob.glob(BASE_PATH + '_dev/flac/*.flac')\n",
    "\n",
    "len(TRAIN_FILENAMES), len(VALID_FILENAMES), len(TEST_FILENAMES)"
   ]
  },
  {
   "cell_type": "code",
   "execution_count": 3,
   "id": "2f284f56-9272-42f1-bb75-2e16453bde70",
   "metadata": {
    "tags": []
   },
   "outputs": [
    {
     "name": "stdout",
     "output_type": "stream",
     "text": [
      "Train Samples: 25380\n"
     ]
    },
    {
     "data": {
      "text/html": [
       "<div>\n",
       "<style scoped>\n",
       "    .dataframe tbody tr th:only-of-type {\n",
       "        vertical-align: middle;\n",
       "    }\n",
       "\n",
       "    .dataframe tbody tr th {\n",
       "        vertical-align: top;\n",
       "    }\n",
       "\n",
       "    .dataframe thead th {\n",
       "        text-align: right;\n",
       "    }\n",
       "</style>\n",
       "<table border=\"1\" class=\"dataframe\">\n",
       "  <thead>\n",
       "    <tr style=\"text-align: right;\">\n",
       "      <th></th>\n",
       "      <th>speaker_id</th>\n",
       "      <th>filename</th>\n",
       "      <th>system_id</th>\n",
       "      <th>class_name</th>\n",
       "      <th>filepath</th>\n",
       "      <th>target</th>\n",
       "    </tr>\n",
       "  </thead>\n",
       "  <tbody>\n",
       "    <tr>\n",
       "      <th>0</th>\n",
       "      <td>LA_0079</td>\n",
       "      <td>LA_T_1138215</td>\n",
       "      <td>-</td>\n",
       "      <td>bonafide</td>\n",
       "      <td>/home/jovyan/.cache/kagglehub/datasets/awsaf49...</td>\n",
       "      <td>0</td>\n",
       "    </tr>\n",
       "    <tr>\n",
       "      <th>1</th>\n",
       "      <td>LA_0079</td>\n",
       "      <td>LA_T_1271820</td>\n",
       "      <td>-</td>\n",
       "      <td>bonafide</td>\n",
       "      <td>/home/jovyan/.cache/kagglehub/datasets/awsaf49...</td>\n",
       "      <td>0</td>\n",
       "    </tr>\n",
       "    <tr>\n",
       "      <th>2</th>\n",
       "      <td>LA_0079</td>\n",
       "      <td>LA_T_1272637</td>\n",
       "      <td>-</td>\n",
       "      <td>bonafide</td>\n",
       "      <td>/home/jovyan/.cache/kagglehub/datasets/awsaf49...</td>\n",
       "      <td>0</td>\n",
       "    </tr>\n",
       "    <tr>\n",
       "      <th>3</th>\n",
       "      <td>LA_0079</td>\n",
       "      <td>LA_T_1276960</td>\n",
       "      <td>-</td>\n",
       "      <td>bonafide</td>\n",
       "      <td>/home/jovyan/.cache/kagglehub/datasets/awsaf49...</td>\n",
       "      <td>0</td>\n",
       "    </tr>\n",
       "    <tr>\n",
       "      <th>4</th>\n",
       "      <td>LA_0079</td>\n",
       "      <td>LA_T_1341447</td>\n",
       "      <td>-</td>\n",
       "      <td>bonafide</td>\n",
       "      <td>/home/jovyan/.cache/kagglehub/datasets/awsaf49...</td>\n",
       "      <td>0</td>\n",
       "    </tr>\n",
       "    <tr>\n",
       "      <th>5</th>\n",
       "      <td>LA_0079</td>\n",
       "      <td>LA_T_1363611</td>\n",
       "      <td>-</td>\n",
       "      <td>bonafide</td>\n",
       "      <td>/home/jovyan/.cache/kagglehub/datasets/awsaf49...</td>\n",
       "      <td>0</td>\n",
       "    </tr>\n",
       "    <tr>\n",
       "      <th>6</th>\n",
       "      <td>LA_0079</td>\n",
       "      <td>LA_T_1596451</td>\n",
       "      <td>-</td>\n",
       "      <td>bonafide</td>\n",
       "      <td>/home/jovyan/.cache/kagglehub/datasets/awsaf49...</td>\n",
       "      <td>0</td>\n",
       "    </tr>\n",
       "    <tr>\n",
       "      <th>7</th>\n",
       "      <td>LA_0079</td>\n",
       "      <td>LA_T_1608170</td>\n",
       "      <td>-</td>\n",
       "      <td>bonafide</td>\n",
       "      <td>/home/jovyan/.cache/kagglehub/datasets/awsaf49...</td>\n",
       "      <td>0</td>\n",
       "    </tr>\n",
       "    <tr>\n",
       "      <th>8</th>\n",
       "      <td>LA_0079</td>\n",
       "      <td>LA_T_1684951</td>\n",
       "      <td>-</td>\n",
       "      <td>bonafide</td>\n",
       "      <td>/home/jovyan/.cache/kagglehub/datasets/awsaf49...</td>\n",
       "      <td>0</td>\n",
       "    </tr>\n",
       "    <tr>\n",
       "      <th>9</th>\n",
       "      <td>LA_0079</td>\n",
       "      <td>LA_T_1699801</td>\n",
       "      <td>-</td>\n",
       "      <td>bonafide</td>\n",
       "      <td>/home/jovyan/.cache/kagglehub/datasets/awsaf49...</td>\n",
       "      <td>0</td>\n",
       "    </tr>\n",
       "  </tbody>\n",
       "</table>\n",
       "</div>"
      ],
      "text/plain": [
       "  speaker_id      filename system_id class_name  \\\n",
       "0    LA_0079  LA_T_1138215         -   bonafide   \n",
       "1    LA_0079  LA_T_1271820         -   bonafide   \n",
       "2    LA_0079  LA_T_1272637         -   bonafide   \n",
       "3    LA_0079  LA_T_1276960         -   bonafide   \n",
       "4    LA_0079  LA_T_1341447         -   bonafide   \n",
       "5    LA_0079  LA_T_1363611         -   bonafide   \n",
       "6    LA_0079  LA_T_1596451         -   bonafide   \n",
       "7    LA_0079  LA_T_1608170         -   bonafide   \n",
       "8    LA_0079  LA_T_1684951         -   bonafide   \n",
       "9    LA_0079  LA_T_1699801         -   bonafide   \n",
       "\n",
       "                                            filepath  target  \n",
       "0  /home/jovyan/.cache/kagglehub/datasets/awsaf49...       0  \n",
       "1  /home/jovyan/.cache/kagglehub/datasets/awsaf49...       0  \n",
       "2  /home/jovyan/.cache/kagglehub/datasets/awsaf49...       0  \n",
       "3  /home/jovyan/.cache/kagglehub/datasets/awsaf49...       0  \n",
       "4  /home/jovyan/.cache/kagglehub/datasets/awsaf49...       0  \n",
       "5  /home/jovyan/.cache/kagglehub/datasets/awsaf49...       0  \n",
       "6  /home/jovyan/.cache/kagglehub/datasets/awsaf49...       0  \n",
       "7  /home/jovyan/.cache/kagglehub/datasets/awsaf49...       0  \n",
       "8  /home/jovyan/.cache/kagglehub/datasets/awsaf49...       0  \n",
       "9  /home/jovyan/.cache/kagglehub/datasets/awsaf49...       0  "
      ]
     },
     "execution_count": 3,
     "metadata": {},
     "output_type": "execute_result"
    }
   ],
   "source": [
    "BASE_PATH = \"/home/jovyan/.cache/kagglehub/datasets/awsaf49/asvpoof-2019-dataset/versions/1/LA/LA/ASVspoof2019_LA\"\n",
    "\n",
    "# Train \n",
    "train_df = pd.read_csv(f'{BASE_PATH}_cm_protocols/ASVspoof2019.LA.cm.train.trn.txt', sep=\" \", header=None)\n",
    "train_df.columns =['speaker_id','filename','system_id','null','class_name']\n",
    "train_df.drop(columns=['null'],inplace=True)\n",
    "train_df['filepath'] = f'{BASE_PATH}_train/flac/'+train_df.filename+'.flac'\n",
    "train_df['target'] = (train_df.class_name=='spoof').astype('int32') # set labels 1 for fake and 0 for real\n",
    "\n",
    "# if True:\n",
    "    # train_df = train_df.sample(2500).reset_index(drop=True)\n",
    "\n",
    "print(f'Train Samples: {len(train_df)}')\n",
    "train_df.head(10)"
   ]
  },
  {
   "cell_type": "code",
   "execution_count": 4,
   "id": "e9b48e3e-ac85-4f9e-9762-873086d07ec6",
   "metadata": {
    "tags": []
   },
   "outputs": [
    {
     "data": {
      "text/plain": [
       "1    22800\n",
       "0     2580\n",
       "Name: target, dtype: int64"
      ]
     },
     "execution_count": 4,
     "metadata": {},
     "output_type": "execute_result"
    }
   ],
   "source": [
    "train_df['target'].value_counts()"
   ]
  },
  {
   "cell_type": "code",
   "execution_count": 5,
   "id": "f22739de-aa66-4b1e-9888-74c8ef523458",
   "metadata": {
    "tags": []
   },
   "outputs": [],
   "source": [
    "balanced_train_df = pd.concat([\n",
    "    train_df[train_df['target'] == 0],\n",
    "    train_df[train_df['target'] == 1].sample(2580, random_state=42)\n",
    "]).reset_index(drop=True)"
   ]
  },
  {
   "cell_type": "code",
   "execution_count": 6,
   "id": "80d3d7de-1164-4fed-b799-f6192f41816a",
   "metadata": {
    "tags": []
   },
   "outputs": [
    {
     "name": "stdout",
     "output_type": "stream",
     "text": [
      "Test Samples: 24844\n"
     ]
    },
    {
     "data": {
      "text/html": [
       "<div>\n",
       "<style scoped>\n",
       "    .dataframe tbody tr th:only-of-type {\n",
       "        vertical-align: middle;\n",
       "    }\n",
       "\n",
       "    .dataframe tbody tr th {\n",
       "        vertical-align: top;\n",
       "    }\n",
       "\n",
       "    .dataframe thead th {\n",
       "        text-align: right;\n",
       "    }\n",
       "</style>\n",
       "<table border=\"1\" class=\"dataframe\">\n",
       "  <thead>\n",
       "    <tr style=\"text-align: right;\">\n",
       "      <th></th>\n",
       "      <th>speaker_id</th>\n",
       "      <th>filename</th>\n",
       "      <th>system_id</th>\n",
       "      <th>class_name</th>\n",
       "      <th>filepath</th>\n",
       "      <th>target</th>\n",
       "    </tr>\n",
       "  </thead>\n",
       "  <tbody>\n",
       "    <tr>\n",
       "      <th>0</th>\n",
       "      <td>LA_0069</td>\n",
       "      <td>LA_D_1047731</td>\n",
       "      <td>-</td>\n",
       "      <td>bonafide</td>\n",
       "      <td>/home/jovyan/.cache/kagglehub/datasets/awsaf49...</td>\n",
       "      <td>0</td>\n",
       "    </tr>\n",
       "    <tr>\n",
       "      <th>1</th>\n",
       "      <td>LA_0069</td>\n",
       "      <td>LA_D_1105538</td>\n",
       "      <td>-</td>\n",
       "      <td>bonafide</td>\n",
       "      <td>/home/jovyan/.cache/kagglehub/datasets/awsaf49...</td>\n",
       "      <td>0</td>\n",
       "    </tr>\n",
       "    <tr>\n",
       "      <th>2</th>\n",
       "      <td>LA_0069</td>\n",
       "      <td>LA_D_1125976</td>\n",
       "      <td>-</td>\n",
       "      <td>bonafide</td>\n",
       "      <td>/home/jovyan/.cache/kagglehub/datasets/awsaf49...</td>\n",
       "      <td>0</td>\n",
       "    </tr>\n",
       "    <tr>\n",
       "      <th>3</th>\n",
       "      <td>LA_0069</td>\n",
       "      <td>LA_D_1293230</td>\n",
       "      <td>-</td>\n",
       "      <td>bonafide</td>\n",
       "      <td>/home/jovyan/.cache/kagglehub/datasets/awsaf49...</td>\n",
       "      <td>0</td>\n",
       "    </tr>\n",
       "    <tr>\n",
       "      <th>4</th>\n",
       "      <td>LA_0069</td>\n",
       "      <td>LA_D_1340209</td>\n",
       "      <td>-</td>\n",
       "      <td>bonafide</td>\n",
       "      <td>/home/jovyan/.cache/kagglehub/datasets/awsaf49...</td>\n",
       "      <td>0</td>\n",
       "    </tr>\n",
       "    <tr>\n",
       "      <th>5</th>\n",
       "      <td>LA_0069</td>\n",
       "      <td>LA_D_1376638</td>\n",
       "      <td>-</td>\n",
       "      <td>bonafide</td>\n",
       "      <td>/home/jovyan/.cache/kagglehub/datasets/awsaf49...</td>\n",
       "      <td>0</td>\n",
       "    </tr>\n",
       "    <tr>\n",
       "      <th>6</th>\n",
       "      <td>LA_0069</td>\n",
       "      <td>LA_D_1377420</td>\n",
       "      <td>-</td>\n",
       "      <td>bonafide</td>\n",
       "      <td>/home/jovyan/.cache/kagglehub/datasets/awsaf49...</td>\n",
       "      <td>0</td>\n",
       "    </tr>\n",
       "    <tr>\n",
       "      <th>7</th>\n",
       "      <td>LA_0069</td>\n",
       "      <td>LA_D_1403371</td>\n",
       "      <td>-</td>\n",
       "      <td>bonafide</td>\n",
       "      <td>/home/jovyan/.cache/kagglehub/datasets/awsaf49...</td>\n",
       "      <td>0</td>\n",
       "    </tr>\n",
       "    <tr>\n",
       "      <th>8</th>\n",
       "      <td>LA_0069</td>\n",
       "      <td>LA_D_1590530</td>\n",
       "      <td>-</td>\n",
       "      <td>bonafide</td>\n",
       "      <td>/home/jovyan/.cache/kagglehub/datasets/awsaf49...</td>\n",
       "      <td>0</td>\n",
       "    </tr>\n",
       "    <tr>\n",
       "      <th>9</th>\n",
       "      <td>LA_0069</td>\n",
       "      <td>LA_D_1595036</td>\n",
       "      <td>-</td>\n",
       "      <td>bonafide</td>\n",
       "      <td>/home/jovyan/.cache/kagglehub/datasets/awsaf49...</td>\n",
       "      <td>0</td>\n",
       "    </tr>\n",
       "  </tbody>\n",
       "</table>\n",
       "</div>"
      ],
      "text/plain": [
       "  speaker_id      filename system_id class_name  \\\n",
       "0    LA_0069  LA_D_1047731         -   bonafide   \n",
       "1    LA_0069  LA_D_1105538         -   bonafide   \n",
       "2    LA_0069  LA_D_1125976         -   bonafide   \n",
       "3    LA_0069  LA_D_1293230         -   bonafide   \n",
       "4    LA_0069  LA_D_1340209         -   bonafide   \n",
       "5    LA_0069  LA_D_1376638         -   bonafide   \n",
       "6    LA_0069  LA_D_1377420         -   bonafide   \n",
       "7    LA_0069  LA_D_1403371         -   bonafide   \n",
       "8    LA_0069  LA_D_1590530         -   bonafide   \n",
       "9    LA_0069  LA_D_1595036         -   bonafide   \n",
       "\n",
       "                                            filepath  target  \n",
       "0  /home/jovyan/.cache/kagglehub/datasets/awsaf49...       0  \n",
       "1  /home/jovyan/.cache/kagglehub/datasets/awsaf49...       0  \n",
       "2  /home/jovyan/.cache/kagglehub/datasets/awsaf49...       0  \n",
       "3  /home/jovyan/.cache/kagglehub/datasets/awsaf49...       0  \n",
       "4  /home/jovyan/.cache/kagglehub/datasets/awsaf49...       0  \n",
       "5  /home/jovyan/.cache/kagglehub/datasets/awsaf49...       0  \n",
       "6  /home/jovyan/.cache/kagglehub/datasets/awsaf49...       0  \n",
       "7  /home/jovyan/.cache/kagglehub/datasets/awsaf49...       0  \n",
       "8  /home/jovyan/.cache/kagglehub/datasets/awsaf49...       0  \n",
       "9  /home/jovyan/.cache/kagglehub/datasets/awsaf49...       0  "
      ]
     },
     "execution_count": 6,
     "metadata": {},
     "output_type": "execute_result"
    }
   ],
   "source": [
    "# Test \n",
    "test_df = pd.read_csv(f'{BASE_PATH}_cm_protocols/ASVspoof2019.LA.cm.dev.trl.txt', sep=\" \", header=None)\n",
    "test_df.columns =['speaker_id','filename','system_id','null','class_name']\n",
    "test_df.drop(columns=['null'],inplace=True)\n",
    "test_df['filepath'] = f'{BASE_PATH}_dev/flac/'+test_df.filename+'.flac'\n",
    "test_df['target'] = (test_df.class_name=='spoof').astype('int32') # set labels 1 for fake and 0 for real\n",
    "\n",
    "print(f'Test Samples: {len(test_df)}')\n",
    "test_df.head(10)"
   ]
  },
  {
   "cell_type": "code",
   "execution_count": 7,
   "id": "160dc0d9-0aed-47a1-95cd-bd5b0e8d12cf",
   "metadata": {
    "tags": []
   },
   "outputs": [],
   "source": [
    "balanced_test_df = pd.concat([\n",
    "    test_df[test_df['target'] == 0],\n",
    "    test_df[test_df['target'] == 1].sample(2548, random_state=42)\n",
    "]).reset_index(drop=True)"
   ]
  },
  {
   "cell_type": "code",
   "execution_count": 8,
   "id": "2964024c-314a-4160-8662-14cc032233cc",
   "metadata": {
    "tags": []
   },
   "outputs": [
    {
     "name": "stdout",
     "output_type": "stream",
     "text": [
      "Test Samples: 24844\n"
     ]
    },
    {
     "data": {
      "text/html": [
       "<div>\n",
       "<style scoped>\n",
       "    .dataframe tbody tr th:only-of-type {\n",
       "        vertical-align: middle;\n",
       "    }\n",
       "\n",
       "    .dataframe tbody tr th {\n",
       "        vertical-align: top;\n",
       "    }\n",
       "\n",
       "    .dataframe thead th {\n",
       "        text-align: right;\n",
       "    }\n",
       "</style>\n",
       "<table border=\"1\" class=\"dataframe\">\n",
       "  <thead>\n",
       "    <tr style=\"text-align: right;\">\n",
       "      <th></th>\n",
       "      <th>speaker_id</th>\n",
       "      <th>filename</th>\n",
       "      <th>system_id</th>\n",
       "      <th>class_name</th>\n",
       "      <th>filepath</th>\n",
       "      <th>target</th>\n",
       "    </tr>\n",
       "  </thead>\n",
       "  <tbody>\n",
       "    <tr>\n",
       "      <th>0</th>\n",
       "      <td>LA_0069</td>\n",
       "      <td>LA_D_1047731</td>\n",
       "      <td>-</td>\n",
       "      <td>bonafide</td>\n",
       "      <td>/home/jovyan/.cache/kagglehub/datasets/awsaf49...</td>\n",
       "      <td>0</td>\n",
       "    </tr>\n",
       "    <tr>\n",
       "      <th>1</th>\n",
       "      <td>LA_0069</td>\n",
       "      <td>LA_D_1105538</td>\n",
       "      <td>-</td>\n",
       "      <td>bonafide</td>\n",
       "      <td>/home/jovyan/.cache/kagglehub/datasets/awsaf49...</td>\n",
       "      <td>0</td>\n",
       "    </tr>\n",
       "    <tr>\n",
       "      <th>2</th>\n",
       "      <td>LA_0069</td>\n",
       "      <td>LA_D_1125976</td>\n",
       "      <td>-</td>\n",
       "      <td>bonafide</td>\n",
       "      <td>/home/jovyan/.cache/kagglehub/datasets/awsaf49...</td>\n",
       "      <td>0</td>\n",
       "    </tr>\n",
       "    <tr>\n",
       "      <th>3</th>\n",
       "      <td>LA_0069</td>\n",
       "      <td>LA_D_1293230</td>\n",
       "      <td>-</td>\n",
       "      <td>bonafide</td>\n",
       "      <td>/home/jovyan/.cache/kagglehub/datasets/awsaf49...</td>\n",
       "      <td>0</td>\n",
       "    </tr>\n",
       "    <tr>\n",
       "      <th>4</th>\n",
       "      <td>LA_0069</td>\n",
       "      <td>LA_D_1340209</td>\n",
       "      <td>-</td>\n",
       "      <td>bonafide</td>\n",
       "      <td>/home/jovyan/.cache/kagglehub/datasets/awsaf49...</td>\n",
       "      <td>0</td>\n",
       "    </tr>\n",
       "    <tr>\n",
       "      <th>5</th>\n",
       "      <td>LA_0069</td>\n",
       "      <td>LA_D_1376638</td>\n",
       "      <td>-</td>\n",
       "      <td>bonafide</td>\n",
       "      <td>/home/jovyan/.cache/kagglehub/datasets/awsaf49...</td>\n",
       "      <td>0</td>\n",
       "    </tr>\n",
       "    <tr>\n",
       "      <th>6</th>\n",
       "      <td>LA_0069</td>\n",
       "      <td>LA_D_1377420</td>\n",
       "      <td>-</td>\n",
       "      <td>bonafide</td>\n",
       "      <td>/home/jovyan/.cache/kagglehub/datasets/awsaf49...</td>\n",
       "      <td>0</td>\n",
       "    </tr>\n",
       "    <tr>\n",
       "      <th>7</th>\n",
       "      <td>LA_0069</td>\n",
       "      <td>LA_D_1403371</td>\n",
       "      <td>-</td>\n",
       "      <td>bonafide</td>\n",
       "      <td>/home/jovyan/.cache/kagglehub/datasets/awsaf49...</td>\n",
       "      <td>0</td>\n",
       "    </tr>\n",
       "    <tr>\n",
       "      <th>8</th>\n",
       "      <td>LA_0069</td>\n",
       "      <td>LA_D_1590530</td>\n",
       "      <td>-</td>\n",
       "      <td>bonafide</td>\n",
       "      <td>/home/jovyan/.cache/kagglehub/datasets/awsaf49...</td>\n",
       "      <td>0</td>\n",
       "    </tr>\n",
       "    <tr>\n",
       "      <th>9</th>\n",
       "      <td>LA_0069</td>\n",
       "      <td>LA_D_1595036</td>\n",
       "      <td>-</td>\n",
       "      <td>bonafide</td>\n",
       "      <td>/home/jovyan/.cache/kagglehub/datasets/awsaf49...</td>\n",
       "      <td>0</td>\n",
       "    </tr>\n",
       "  </tbody>\n",
       "</table>\n",
       "</div>"
      ],
      "text/plain": [
       "  speaker_id      filename system_id class_name  \\\n",
       "0    LA_0069  LA_D_1047731         -   bonafide   \n",
       "1    LA_0069  LA_D_1105538         -   bonafide   \n",
       "2    LA_0069  LA_D_1125976         -   bonafide   \n",
       "3    LA_0069  LA_D_1293230         -   bonafide   \n",
       "4    LA_0069  LA_D_1340209         -   bonafide   \n",
       "5    LA_0069  LA_D_1376638         -   bonafide   \n",
       "6    LA_0069  LA_D_1377420         -   bonafide   \n",
       "7    LA_0069  LA_D_1403371         -   bonafide   \n",
       "8    LA_0069  LA_D_1590530         -   bonafide   \n",
       "9    LA_0069  LA_D_1595036         -   bonafide   \n",
       "\n",
       "                                            filepath  target  \n",
       "0  /home/jovyan/.cache/kagglehub/datasets/awsaf49...       0  \n",
       "1  /home/jovyan/.cache/kagglehub/datasets/awsaf49...       0  \n",
       "2  /home/jovyan/.cache/kagglehub/datasets/awsaf49...       0  \n",
       "3  /home/jovyan/.cache/kagglehub/datasets/awsaf49...       0  \n",
       "4  /home/jovyan/.cache/kagglehub/datasets/awsaf49...       0  \n",
       "5  /home/jovyan/.cache/kagglehub/datasets/awsaf49...       0  \n",
       "6  /home/jovyan/.cache/kagglehub/datasets/awsaf49...       0  \n",
       "7  /home/jovyan/.cache/kagglehub/datasets/awsaf49...       0  \n",
       "8  /home/jovyan/.cache/kagglehub/datasets/awsaf49...       0  \n",
       "9  /home/jovyan/.cache/kagglehub/datasets/awsaf49...       0  "
      ]
     },
     "execution_count": 8,
     "metadata": {},
     "output_type": "execute_result"
    }
   ],
   "source": [
    "\n",
    "# Validation \n",
    "val_df = pd.read_csv(f'{BASE_PATH}_cm_protocols/ASVspoof2019.LA.cm.eval.trl.txt', sep=\" \", header=None)\n",
    "val_df.columns =['speaker_id','filename','system_id','null','class_name']\n",
    "val_df.drop(columns=['null'],inplace=True)\n",
    "val_df['filepath'] = f'{BASE_PATH}_eval/flac/'+val_df.filename+'.flac'\n",
    "val_df['target'] = (val_df.class_name=='spoof').astype('int32') # set labels 1 for fake and 0 for real\n",
    "\n",
    "print(f'Test Samples: {len(test_df)}')\n",
    "test_df.head(10)"
   ]
  },
  {
   "cell_type": "code",
   "execution_count": 9,
   "id": "208e3200-34d8-4e47-805a-1e4a5d3ac921",
   "metadata": {
    "tags": []
   },
   "outputs": [
    {
     "data": {
      "text/plain": [
       "1    63882\n",
       "0     7355\n",
       "Name: target, dtype: int64"
      ]
     },
     "execution_count": 9,
     "metadata": {},
     "output_type": "execute_result"
    }
   ],
   "source": [
    "val_df['target'].value_counts()"
   ]
  },
  {
   "cell_type": "code",
   "execution_count": 10,
   "id": "0fe5f519-17a7-4def-ad1b-cfae3c7f7e79",
   "metadata": {
    "tags": []
   },
   "outputs": [],
   "source": [
    "balanced_val_df = pd.concat([\n",
    "    val_df[val_df['target'] == 0],\n",
    "    val_df[val_df['target'] == 1].sample(7355, random_state=42)\n",
    "]).reset_index(drop=True)"
   ]
  },
  {
   "cell_type": "code",
   "execution_count": 11,
   "id": "30906001-b131-49bf-9601-09fb0897b225",
   "metadata": {
    "tags": []
   },
   "outputs": [
    {
     "data": {
      "text/plain": [
       "0    12483\n",
       "1    12483\n",
       "Name: target, dtype: int64"
      ]
     },
     "execution_count": 11,
     "metadata": {},
     "output_type": "execute_result"
    }
   ],
   "source": [
    "balanced_df = pd.concat([balanced_train_df, balanced_test_df, balanced_val_df]) # .target.value_counts()\n",
    "\n",
    "balanced_df.target.value_counts()"
   ]
  },
  {
   "cell_type": "code",
   "execution_count": 13,
   "id": "1a9ea92b-e9b8-4d68-81b0-5334b559148b",
   "metadata": {
    "tags": []
   },
   "outputs": [
    {
     "name": "stdout",
     "output_type": "stream",
     "text": [
      "Saving features\n",
      "Labels shape: (24966,)\n"
     ]
    }
   ],
   "source": [
    "import os\n",
    "import numpy as np\n",
    "import librosa\n",
    "\n",
    "EXTRACT = False\n",
    "\n",
    "def extract_df_features(df, max_length=500):\n",
    "    all_features = []\n",
    "    labels = []\n",
    "    \n",
    "    for index, row in df.iterrows():    \n",
    "        try:\n",
    "            # Load audio file\n",
    "            audio, _ = librosa.load(row[\"filepath\"], sr=16000)\n",
    "            \n",
    "            # Extract MFCC features\n",
    "            mfccs = librosa.feature.mfcc(y=audio, sr=16000, n_mfcc=15)\n",
    "            mfccs = pad_or_trim(mfccs, max_length)\n",
    "            \n",
    "            # Extract Mel-Spectrogram features\n",
    "            mel_spectrogram = librosa.feature.melspectrogram(y=audio, sr=16000, n_mels=15)\n",
    "            mel_spectrogram_db = librosa.power_to_db(mel_spectrogram, ref=np.max)\n",
    "            mel_spectrogram_db = pad_or_trim(mel_spectrogram_db, max_length)\n",
    "\n",
    "            # Extract CQT features\n",
    "            cqt = librosa.cqt(y=audio, sr=16000, n_bins=15)\n",
    "            cqt_magnitude = pad_or_trim(np.abs(cqt), max_length)\n",
    "\n",
    "            # Extract CQCC features (Simulated from CQT)\n",
    "            cqt_db = librosa.amplitude_to_db(cqt)\n",
    "            cqcc = librosa.feature.mfcc(S=cqt_db, n_mfcc=15)\n",
    "            cqcc = pad_or_trim(cqcc, max_length)\n",
    "            \n",
    "            # Stack features\n",
    "            combined_features = np.vstack([mfccs, mel_spectrogram_db, cqt_magnitude, cqcc])\n",
    "            # combined_features = mfccs\n",
    "            # combined_features = np.vstack([mfccs, mel_spectrogram_db, cqt_magnitude])\n",
    "            \n",
    "            # Append features and labels\n",
    "            all_features.append(combined_features)\n",
    "            labels.append(row.target)  # 1 for fake\n",
    "            \n",
    "        except Exception as e:\n",
    "            print(e)\n",
    "            print(f\"Error encountered while parsing file: {row.filepath}\")\n",
    "            \n",
    "    print(\"Saving features\")\n",
    "    np.save(\"asv_full.npy\", all_features)\n",
    "\n",
    "    # Convert lists to NumPy arrays\n",
    "    return np.array(all_features), np.array(labels)\n",
    "\n",
    "def pad_or_trim(features, max_length):\n",
    "    \"\"\"\n",
    "    Pads or trims the input feature array to a specific max_length.\n",
    "    \"\"\"\n",
    "    if features.shape[1] < max_length:\n",
    "        return np.pad(features, ((0, 0), (0, max_length - features.shape[1])), mode='constant')\n",
    "    else:\n",
    "        return features[:, :max_length]\n",
    "\n",
    "\n",
    "if EXTRACT:\n",
    "    x, y = extract_df_features(balanced_df)\n",
    "    print(\"Features shape:\", x.shape)  # Should be (10, 40*4, 500)\n",
    "    print(\"Labels shape:\", y.shape)    # Should be (10,)"
   ]
  },
  {
   "cell_type": "code",
   "execution_count": 13,
   "id": "5b50f3f8-627a-4e9a-9887-2179a68930d8",
   "metadata": {
    "tags": []
   },
   "outputs": [],
   "source": [
    "# np.save(\"x2.npy\", x)\n",
    "# np.save(\"asv_labels.npy\", y)\n",
    "\n",
    "x = np.load('asv_full.npy')\n",
    "y = np.load('asv_labels.npy')"
   ]
  },
  {
   "cell_type": "code",
   "execution_count": 14,
   "id": "80b25ede-9d3f-44fc-89db-b70a91e091c5",
   "metadata": {
    "tags": []
   },
   "outputs": [
    {
     "data": {
      "text/plain": [
       "((24966, 60, 500), (24966,))"
      ]
     },
     "execution_count": 14,
     "metadata": {},
     "output_type": "execute_result"
    }
   ],
   "source": [
    "x.shape, y.shape"
   ]
  },
  {
   "cell_type": "code",
   "execution_count": 15,
   "id": "23c840fa-2578-4a31-911d-cb3684af9cbb",
   "metadata": {
    "tags": []
   },
   "outputs": [],
   "source": [
    "xtrain,xtest,ytrain,ytest = train_test_split(x,y,test_size = .2)"
   ]
  },
  {
   "cell_type": "code",
   "execution_count": 11,
   "id": "3fc42ed4-0280-47b3-a09a-e47aad689328",
   "metadata": {
    "tags": []
   },
   "outputs": [
    {
     "name": "stdout",
     "output_type": "stream",
     "text": [
      "Model: \"sequential_1\"\n",
      "_________________________________________________________________\n",
      " Layer (type)                Output Shape              Param #   \n",
      "=================================================================\n",
      " reshape_2 (Reshape)         (None, 60, 500, 1)        0         \n",
      "                                                                 \n",
      " conv2d_3 (Conv2D)           (None, 60, 500, 32)       320       \n",
      "                                                                 \n",
      " batch_normalization_5 (Batc  (None, 60, 500, 32)      128       \n",
      " hNormalization)                                                 \n",
      "                                                                 \n",
      " max_pooling2d_3 (MaxPooling  (None, 30, 250, 32)      0         \n",
      " 2D)                                                             \n",
      "                                                                 \n",
      " conv2d_4 (Conv2D)           (None, 30, 250, 64)       18496     \n",
      "                                                                 \n",
      " batch_normalization_6 (Batc  (None, 30, 250, 64)      256       \n",
      " hNormalization)                                                 \n",
      "                                                                 \n",
      " max_pooling2d_4 (MaxPooling  (None, 15, 125, 64)      0         \n",
      " 2D)                                                             \n",
      "                                                                 \n",
      " conv2d_5 (Conv2D)           (None, 15, 125, 128)      73856     \n",
      "                                                                 \n",
      " batch_normalization_7 (Batc  (None, 15, 125, 128)     512       \n",
      " hNormalization)                                                 \n",
      "                                                                 \n",
      " max_pooling2d_5 (MaxPooling  (None, 7, 62, 128)       0         \n",
      " 2D)                                                             \n",
      "                                                                 \n",
      " reshape_3 (Reshape)         (None, 434, 128)          0         \n",
      "                                                                 \n",
      " bidirectional_2 (Bidirectio  (None, 434, 256)         263168    \n",
      " nal)                                                            \n",
      "                                                                 \n",
      " batch_normalization_8 (Batc  (None, 434, 256)         1024      \n",
      " hNormalization)                                                 \n",
      "                                                                 \n",
      " bidirectional_3 (Bidirectio  (None, 256)              394240    \n",
      " nal)                                                            \n",
      "                                                                 \n",
      " batch_normalization_9 (Batc  (None, 256)              1024      \n",
      " hNormalization)                                                 \n",
      "                                                                 \n",
      " dense_2 (Dense)             (None, 128)               32896     \n",
      "                                                                 \n",
      " dropout_1 (Dropout)         (None, 128)               0         \n",
      "                                                                 \n",
      " dense_3 (Dense)             (None, 1)                 129       \n",
      "                                                                 \n",
      "=================================================================\n",
      "Total params: 786,049\n",
      "Trainable params: 784,577\n",
      "Non-trainable params: 1,472\n",
      "_________________________________________________________________\n"
     ]
    }
   ],
   "source": [
    "# strategy = tf.distribute.MirroredStrategy(cross_device_ops=tf.distribute.ReductionToOneDevice())\n",
    "# strategy = tf.distribute.MirroredStrategy()\n",
    "strategy = tf.distribute.get_strategy()\n",
    "\n",
    "with strategy.scope():\n",
    "    # Create and compile the model inside the strategy scope\n",
    "    model_asv = Sequential([\n",
    "        layers.Reshape((60, 500, 1), input_shape=xtrain.shape[1:]),\n",
    "        layers.Conv2D(32, kernel_size=(3, 3), activation='relu', padding='same'),\n",
    "        layers.BatchNormalization(),\n",
    "        layers.MaxPooling2D(pool_size=(2, 2)),\n",
    "\n",
    "        layers.Conv2D(64, kernel_size=(3, 3), activation='relu', padding='same'),\n",
    "        layers.BatchNormalization(),\n",
    "        layers.MaxPooling2D(pool_size=(2, 2)),\n",
    "\n",
    "        layers.Conv2D(128, kernel_size=(3, 3), activation='relu', padding='same'),\n",
    "        layers.BatchNormalization(),\n",
    "        layers.MaxPooling2D(pool_size=(2, 2)),\n",
    "\n",
    "        layers.Reshape((-1, 128)),\n",
    "        layers.Bidirectional(layers.LSTM(128, return_sequences=True, dropout=0.3)),\n",
    "        layers.BatchNormalization(),\n",
    "        layers.Bidirectional(layers.LSTM(128, dropout=0.3)),\n",
    "        layers.BatchNormalization(),\n",
    "        layers.Dense(128, activation='relu', kernel_regularizer=regularizers.l2(0.001)),\n",
    "        layers.Dropout(0.5),\n",
    "        layers.Dense(1, activation='sigmoid')\n",
    "    ])\n",
    "\n",
    "    model_asv.compile(optimizer='adam', loss='binary_crossentropy', metrics=['accuracy'])\n",
    "\n",
    "\n",
    "# Print the model summary to confirm the structure\n",
    "model_asv.summary()"
   ]
  },
  {
   "cell_type": "code",
   "execution_count": 10,
   "id": "f41323b9-1f84-47c3-9f40-0bc4e2712b0b",
   "metadata": {
    "tags": []
   },
   "outputs": [
    {
     "name": "stdout",
     "output_type": "stream",
     "text": [
      "Epoch 1/50\n",
      "625/625 [==============================] - 55s 73ms/step - loss: 0.4674 - accuracy: 0.8620 - val_loss: 0.3436 - val_accuracy: 0.9075\n",
      "Epoch 2/50\n",
      "625/625 [==============================] - 44s 70ms/step - loss: 0.3056 - accuracy: 0.9076 - val_loss: 0.3023 - val_accuracy: 0.8959\n",
      "Epoch 3/50\n",
      "625/625 [==============================] - 46s 74ms/step - loss: 0.2163 - accuracy: 0.9306 - val_loss: 0.2940 - val_accuracy: 0.9187\n",
      "Epoch 4/50\n",
      "625/625 [==============================] - 60s 96ms/step - loss: 0.1628 - accuracy: 0.9502 - val_loss: 0.1348 - val_accuracy: 0.9543\n",
      "Epoch 5/50\n",
      "625/625 [==============================] - 54s 87ms/step - loss: 0.1343 - accuracy: 0.9582 - val_loss: 0.2182 - val_accuracy: 0.9441\n",
      "Epoch 6/50\n",
      "625/625 [==============================] - 53s 86ms/step - loss: 0.1156 - accuracy: 0.9630 - val_loss: 0.0921 - val_accuracy: 0.9724\n",
      "Epoch 7/50\n",
      "625/625 [==============================] - 54s 86ms/step - loss: 0.0994 - accuracy: 0.9682 - val_loss: 0.1065 - val_accuracy: 0.9682\n",
      "Epoch 8/50\n",
      "625/625 [==============================] - 53s 85ms/step - loss: 0.1000 - accuracy: 0.9686 - val_loss: 0.1750 - val_accuracy: 0.9551\n",
      "Epoch 9/50\n",
      "625/625 [==============================] - 46s 74ms/step - loss: 0.0945 - accuracy: 0.9701 - val_loss: 0.1167 - val_accuracy: 0.9571\n",
      "Epoch 10/50\n",
      "625/625 [==============================] - 44s 70ms/step - loss: 0.0836 - accuracy: 0.9727 - val_loss: 0.0908 - val_accuracy: 0.9704\n",
      "Epoch 11/50\n",
      "625/625 [==============================] - 44s 70ms/step - loss: 0.0761 - accuracy: 0.9758 - val_loss: 0.0982 - val_accuracy: 0.9782\n",
      "Epoch 12/50\n",
      "625/625 [==============================] - 44s 71ms/step - loss: 0.0747 - accuracy: 0.9760 - val_loss: 0.1001 - val_accuracy: 0.9654\n",
      "Epoch 13/50\n",
      "625/625 [==============================] - 43s 70ms/step - loss: 0.0727 - accuracy: 0.9776 - val_loss: 0.1056 - val_accuracy: 0.9674\n",
      "Epoch 14/50\n",
      "625/625 [==============================] - 43s 70ms/step - loss: 0.0714 - accuracy: 0.9784 - val_loss: 0.1350 - val_accuracy: 0.9618\n",
      "Epoch 15/50\n",
      "625/625 [==============================] - 45s 72ms/step - loss: 0.0710 - accuracy: 0.9791 - val_loss: 0.0759 - val_accuracy: 0.9762\n",
      "Epoch 16/50\n",
      "625/625 [==============================] - 43s 69ms/step - loss: 0.0646 - accuracy: 0.9811 - val_loss: 0.1454 - val_accuracy: 0.9614\n",
      "Epoch 17/50\n",
      "625/625 [==============================] - 44s 71ms/step - loss: 0.0621 - accuracy: 0.9806 - val_loss: 0.0763 - val_accuracy: 0.9784\n",
      "Epoch 18/50\n",
      "625/625 [==============================] - 44s 71ms/step - loss: 0.0603 - accuracy: 0.9815 - val_loss: 0.3015 - val_accuracy: 0.9369\n",
      "Epoch 19/50\n",
      "625/625 [==============================] - 47s 74ms/step - loss: 0.0578 - accuracy: 0.9836 - val_loss: 0.0870 - val_accuracy: 0.9782\n",
      "Epoch 20/50\n",
      "625/625 [==============================] - 48s 77ms/step - loss: 0.0503 - accuracy: 0.9847 - val_loss: 0.0959 - val_accuracy: 0.9674\n",
      "Epoch 21/50\n",
      "625/625 [==============================] - 47s 75ms/step - loss: 0.0504 - accuracy: 0.9859 - val_loss: 0.0740 - val_accuracy: 0.9808\n",
      "Epoch 22/50\n",
      "625/625 [==============================] - 47s 76ms/step - loss: 0.0464 - accuracy: 0.9863 - val_loss: 0.0847 - val_accuracy: 0.9814\n",
      "Epoch 23/50\n",
      "625/625 [==============================] - 47s 76ms/step - loss: 0.0412 - accuracy: 0.9879 - val_loss: 0.1510 - val_accuracy: 0.9642\n",
      "Epoch 24/50\n",
      "625/625 [==============================] - 48s 76ms/step - loss: 0.0465 - accuracy: 0.9862 - val_loss: 0.0809 - val_accuracy: 0.9720\n",
      "Epoch 25/50\n",
      "625/625 [==============================] - 48s 77ms/step - loss: 0.0428 - accuracy: 0.9873 - val_loss: 0.0908 - val_accuracy: 0.9690\n",
      "Epoch 26/50\n",
      "625/625 [==============================] - 47s 75ms/step - loss: 0.0441 - accuracy: 0.9863 - val_loss: 0.0830 - val_accuracy: 0.9760\n",
      "Epoch 27/50\n",
      "625/625 [==============================] - 47s 75ms/step - loss: 0.0433 - accuracy: 0.9864 - val_loss: 0.0792 - val_accuracy: 0.9762\n",
      "Epoch 28/50\n",
      "625/625 [==============================] - 47s 76ms/step - loss: 0.0469 - accuracy: 0.9870 - val_loss: 0.1705 - val_accuracy: 0.9692\n",
      "Epoch 29/50\n",
      "625/625 [==============================] - 48s 76ms/step - loss: 0.0353 - accuracy: 0.9901 - val_loss: 0.1051 - val_accuracy: 0.9563\n",
      "Epoch 30/50\n",
      "625/625 [==============================] - 46s 74ms/step - loss: 0.0383 - accuracy: 0.9893 - val_loss: 0.0862 - val_accuracy: 0.9816\n",
      "Epoch 31/50\n",
      "625/625 [==============================] - 44s 70ms/step - loss: 0.0360 - accuracy: 0.9894 - val_loss: 0.1137 - val_accuracy: 0.9660\n",
      "Epoch 32/50\n",
      "625/625 [==============================] - 44s 71ms/step - loss: 0.0352 - accuracy: 0.9896 - val_loss: 0.0564 - val_accuracy: 0.9856\n",
      "Epoch 33/50\n",
      "625/625 [==============================] - 44s 71ms/step - loss: 0.0415 - accuracy: 0.9883 - val_loss: 0.0672 - val_accuracy: 0.9830\n",
      "Epoch 34/50\n",
      "625/625 [==============================] - 43s 69ms/step - loss: 0.0327 - accuracy: 0.9906 - val_loss: 0.1075 - val_accuracy: 0.9746\n",
      "Epoch 35/50\n",
      "625/625 [==============================] - 43s 69ms/step - loss: 0.0310 - accuracy: 0.9908 - val_loss: 0.1010 - val_accuracy: 0.9698\n",
      "Epoch 36/50\n",
      "625/625 [==============================] - 44s 70ms/step - loss: 0.0344 - accuracy: 0.9905 - val_loss: 0.1494 - val_accuracy: 0.9704\n",
      "Epoch 37/50\n",
      "625/625 [==============================] - 44s 70ms/step - loss: 0.0375 - accuracy: 0.9886 - val_loss: 0.1461 - val_accuracy: 0.9678\n",
      "Epoch 38/50\n",
      "625/625 [==============================] - 44s 70ms/step - loss: 0.0294 - accuracy: 0.9913 - val_loss: 0.1074 - val_accuracy: 0.9694\n",
      "Epoch 39/50\n",
      "625/625 [==============================] - 44s 70ms/step - loss: 0.0287 - accuracy: 0.9916 - val_loss: 0.0661 - val_accuracy: 0.9768\n",
      "Epoch 40/50\n",
      "625/625 [==============================] - 44s 71ms/step - loss: 0.0397 - accuracy: 0.9887 - val_loss: 0.0772 - val_accuracy: 0.9834\n",
      "Epoch 41/50\n",
      "625/625 [==============================] - 44s 70ms/step - loss: 0.0283 - accuracy: 0.9928 - val_loss: 0.0528 - val_accuracy: 0.9850\n",
      "Epoch 42/50\n",
      "625/625 [==============================] - 44s 70ms/step - loss: 0.0240 - accuracy: 0.9937 - val_loss: 0.0528 - val_accuracy: 0.9832\n",
      "Epoch 43/50\n",
      "625/625 [==============================] - 44s 70ms/step - loss: 0.0303 - accuracy: 0.9904 - val_loss: 0.0596 - val_accuracy: 0.9844\n",
      "Epoch 44/50\n",
      "625/625 [==============================] - 44s 71ms/step - loss: 0.0252 - accuracy: 0.9933 - val_loss: 0.0602 - val_accuracy: 0.9852\n",
      "Epoch 45/50\n",
      "625/625 [==============================] - 41s 66ms/step - loss: 0.0281 - accuracy: 0.9917 - val_loss: 0.2707 - val_accuracy: 0.9463\n",
      "Epoch 46/50\n",
      "625/625 [==============================] - 42s 67ms/step - loss: 0.0318 - accuracy: 0.9917 - val_loss: 0.0710 - val_accuracy: 0.9830\n",
      "Epoch 47/50\n",
      "625/625 [==============================] - 42s 67ms/step - loss: 0.0253 - accuracy: 0.9936 - val_loss: 0.0730 - val_accuracy: 0.9816\n",
      "Epoch 48/50\n",
      "625/625 [==============================] - 42s 67ms/step - loss: 0.0247 - accuracy: 0.9927 - val_loss: 0.0979 - val_accuracy: 0.9814\n",
      "Epoch 49/50\n",
      "625/625 [==============================] - 41s 66ms/step - loss: 0.0269 - accuracy: 0.9925 - val_loss: 0.0671 - val_accuracy: 0.9856\n",
      "Epoch 50/50\n",
      "625/625 [==============================] - 42s 66ms/step - loss: 0.0223 - accuracy: 0.9941 - val_loss: 0.1189 - val_accuracy: 0.9754\n"
     ]
    }
   ],
   "source": [
    "# tf.keras.mixed_precision.set_global_policy('mixed_float16')\n",
    "\n",
    "# Define EarlyStopping callback to monitor validation accuracy\n",
    "early_stopping = EarlyStopping(\n",
    "    monitor='val_accuracy',        # Monitor validation accuracy instead of loss\n",
    "    patience=10,                     # Stop after 10 epochs of no improvement\n",
    "    restore_best_weights=True,      # Restore the weights from the epoch with the best validation accuracy\n",
    "    mode='max',                     # 'max' because higher accuracy is better (we want to maximize val_accuracy)\n",
    "    verbose=1                       # Output when training stops early\n",
    ")\n",
    "\n",
    "batch_size = 32 * strategy.num_replicas_in_sync\n",
    "\n",
    "# Train the model with early stopping\n",
    "history_asv = model_asv.fit(\n",
    "    xtrain, ytrain,\n",
    "    epochs=50,\n",
    "    batch_size=batch_size,\n",
    "    validation_data=(xtest, ytest),\n",
    "    # callbacks=[early_stopping]      # Add early stopping callback\n",
    ")"
   ]
  },
  {
   "cell_type": "code",
   "execution_count": 11,
   "id": "5975ea2e-f05d-4e56-8c26-a3916a1a28f0",
   "metadata": {
    "tags": []
   },
   "outputs": [
    {
     "data": {
      "image/png": "[encoded data removed]",
      "text/plain": [
       "<Figure size 1200x500 with 2 Axes>"
      ]
     },
     "metadata": {},
     "output_type": "display_data"
    }
   ],
   "source": [
    "fig, (ax1, ax2) = plt.subplots(1, 2, figsize=(12, 5))  # 2 rows, 1 column\n",
    "\n",
    "\n",
    "# First subplot (Sine Wave)\n",
    "ax1.plot(history_asv.history['accuracy'], label='Training Accuracy')\n",
    "ax1.plot(history_asv.history['val_accuracy'], label='Validation Accuracy')\n",
    "ax1.set_title('Training and Validation Accuracy')\n",
    "ax1.set_xlabel('Epoch')\n",
    "ax1.set_ylabel('Accuracy')\n",
    "ax1.legend()\n",
    "\n",
    "plt.title('Training and Validation Accuracy')\n",
    "\n",
    "# Second subplot (Cosine Wave)\n",
    "ax2.plot(history_asv.history['loss'], label='Training Loss')\n",
    "ax2.plot(history_asv.history['val_loss'], label='Validation Loss')\n",
    "\n",
    "ax2.set_xlabel('Epoch')\n",
    "ax2.set_ylabel('Loss')\n",
    "ax2.set_title('Training and Validation Loss')\n",
    "\n",
    "ax2.legend()\n",
    "\n",
    "# Save and show\n",
    "plt.tight_layout()\n",
    "plt.savefig('two_stacked_plots_asv.png')\n",
    "plt.show()"
   ]
  },
  {
   "cell_type": "code",
   "execution_count": 12,
   "id": "2cc79699-34de-4d69-a423-6de11045740f",
   "metadata": {
    "tags": []
   },
   "outputs": [],
   "source": [
    "cpu_model_asv = tf.keras.models.clone_model(model_asv)\n",
    "cpu_model_asv.compile(optimizer='adam', loss='binary_crossentropy', metrics=['accuracy'])\n",
    "\n",
    "# # Copy weights from the TPU model to the CPU model\n",
    "cpu_model_asv.set_weights(model_asv.get_weights())\n",
    "\n",
    "# # Save only the weights of the CPU model\n",
    "cpu_model_asv.save_weights('asv_2.h5')"
   ]
  },
  {
   "cell_type": "code",
   "execution_count": 14,
   "id": "984f44fc-83d2-43d7-9a62-d40c110fe84f",
   "metadata": {
    "tags": []
   },
   "outputs": [
    {
     "name": "stdout",
     "output_type": "stream",
     "text": [
      "157/157 [==============================] - 4s 24ms/step\n",
      "EER: 0.0160 at threshold: 0.0036\n"
     ]
    }
   ],
   "source": [
    "# EER\n",
    "import numpy as np\n",
    "from sklearn.metrics import roc_curve\n",
    "\n",
    "preds = model_asv.predict(xtest)\n",
    "\n",
    "# Calculate the false acceptance and false rejection rates\n",
    "fpr, tpr, thresholds = roc_curve(ytest, preds)\n",
    "\n",
    "# False rejection rate is 1 - true positive rate\n",
    "frr = 1 - tpr\n",
    "\n",
    "# Find the point where FAR is closest to FRR\n",
    "eer_threshold_index = np.nanargmin(np.absolute((fpr - frr)))\n",
    "eer_threshold = thresholds[eer_threshold_index]\n",
    "eer = fpr[eer_threshold_index]\n",
    "\n",
    "print(f\"EER: {eer:.4f} at threshold: {eer_threshold:.4f}\")"
   ]
  },
  {
   "cell_type": "code",
   "execution_count": 12,
   "id": "4cc7a5b0-24a5-442c-b8a3-63087d591199",
   "metadata": {
    "tags": []
   },
   "outputs": [],
   "source": [
    "model_asv.load_weights(\"asv_2.h5\")\n",
    "\n",
    "model_asv.compile(optimizer='adam', loss='binary_crossentropy', metrics=['accuracy'])"
   ]
  },
  {
   "cell_type": "code",
   "execution_count": 16,
   "id": "34ec3992-fcd4-42bb-ac27-cc78ee7b6482",
   "metadata": {
    "tags": []
   },
   "outputs": [
    {
     "name": "stdout",
     "output_type": "stream",
     "text": [
      "157/157 [==============================] - 6s 24ms/step - loss: 0.0457 - accuracy: 0.9888\n"
     ]
    },
    {
     "data": {
      "text/plain": [
       "(0.045659828931093216, 0.988786518573761)"
      ]
     },
     "execution_count": 16,
     "metadata": {},
     "output_type": "execute_result"
    }
   ],
   "source": [
    "loss, accuracy = model_asv.evaluate(xtest,ytest)\n",
    "loss, accuracy"
   ]
  },
  {
   "cell_type": "code",
   "execution_count": null,
   "id": "e678b57a-0183-441e-a1e4-d0971a4e4d7c",
   "metadata": {},
   "outputs": [],
   "source": []
  }
 ],
 "metadata": {
  "kernelspec": {
   "display_name": "Python 3 (ipykernel)",
   "language": "python",
   "name": "python3"
  },
  "language_info": {
   "codemirror_mode": {
    "name": "ipython",
    "version": 3
   },
   "file_extension": ".py",
   "mimetype": "text/x-python",
   "name": "python",
   "nbconvert_exporter": "python",
   "pygments_lexer": "ipython3",
   "version": "3.7.6"
  }
 },
 "nbformat": 4,
 "nbformat_minor": 5
}
